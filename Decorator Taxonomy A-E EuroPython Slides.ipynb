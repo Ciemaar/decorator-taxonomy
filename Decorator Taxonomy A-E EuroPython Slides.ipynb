{
 "cells": [
  {
   "cell_type": "code",
   "execution_count": 6,
   "metadata": {
    "slideshow": {
     "slide_type": "skip"
    }
   },
   "outputs": [],
   "source": [
    "from sys import getsizeof\n",
    "from datetime import datetime\n",
    "import sys, inspect, dis, asyncio\n",
    "from functools import wraps\n",
    "from unittest.mock import MagicMock\n",
    "import random\n",
    "\n",
    "# file touch\n",
    "with open('hello_world.txt', 'a') as f:\n",
    "    pass\n",
    "\n",
    "def null_it(func):\n",
    "    'Replace with no-op'\n",
    "    def null(*args,**kwargs): pass\n",
    "    return null"
   ]
  },
  {
   "cell_type": "markdown",
   "metadata": {
    "slideshow": {
     "slide_type": "slide"
    }
   },
   "source": [
    "# A Taxonomy of Decorators: A-E\n",
    "\n",
    "Andy Fundinger, Senior Engineer\n",
    "\n",
    "EuroPython, Edinburgh, Scotland, July 29, 2018 "
   ]
  },
  {
   "cell_type": "code",
   "execution_count": 51,
   "metadata": {
    "slideshow": {
     "slide_type": "skip"
    }
   },
   "outputs": [
    {
     "data": {
      "text/plain": [
       "datetime.datetime(2018, 6, 14, 15, 6, 23, 512798)"
      ]
     },
     "execution_count": 51,
     "metadata": {},
     "output_type": "execute_result"
    }
   ],
   "source": [
    "datetime.now()"
   ]
  },
  {
   "cell_type": "markdown",
   "metadata": {
    "slideshow": {
     "slide_type": "slide"
    }
   },
   "source": [
    "# Introduction \n",
    "* Who I am\n",
    "* What is Bloomberg?\n",
    "* What is this talk?\n",
    "  - we use decorators, but when we go to talk about them it's hard to get them into categories \n",
    "  - with a common terminology we can discuss more easily\n",
    "* Who is this talk for?  \n",
    "  - Intermediate developers who can write decorators, but maybe aren't sure when and why\n",
    "  - Architects who may need to work across teams to implement and manage their design"
   ]
  },
  {
   "cell_type": "code",
   "execution_count": 52,
   "metadata": {
    "slideshow": {
     "slide_type": "skip"
    }
   },
   "outputs": [
    {
     "data": {
      "text/plain": [
       "datetime.datetime(2018, 6, 14, 15, 7, 1, 534659)"
      ]
     },
     "execution_count": 52,
     "metadata": {},
     "output_type": "execute_result"
    }
   ],
   "source": [
    "datetime.now() #40s"
   ]
  },
  {
   "cell_type": "markdown",
   "metadata": {
    "slideshow": {
     "slide_type": "slide"
    }
   },
   "source": [
    "## Decorator Syntax and Implementation \n",
    "\n",
    "Any decorator can be replaced with code in the decorated functions.  However, decorators allow this code to be reused and factored out of the functions.\n",
    "- Decorators without the @ sign\n",
    "- Function Decorators\n",
    "- Class Decorators\n",
    "- Decorators with arguments\n",
    "- Decorators written as classes\n",
    "\n",
    "Generally decorators insert a section of code of arbitrary complexity in a single line.  Debuggers generally skip over this code--for better or worse."
   ]
  },
  {
   "cell_type": "markdown",
   "metadata": {
    "slideshow": {
     "slide_type": "slide"
    }
   },
   "source": [
    "## Basic Syntax\n",
    "### Decorators without the @ sign\n",
    "\n",
    "The oldest decorators in Python are @staticmethod and @classmethod.  Dating back to Python 2.2 we used those like this:"
   ]
  },
  {
   "cell_type": "code",
   "execution_count": 53,
   "metadata": {
    "slideshow": {
     "slide_type": "-"
    }
   },
   "outputs": [],
   "source": [
    "class Util(object):\n",
    "    def wibble():\n",
    "        print(\"Wobble\")\n",
    "    wibble = staticmethod(wibble)"
   ]
  },
  {
   "cell_type": "markdown",
   "metadata": {
    "slideshow": {
     "slide_type": "subslide"
    }
   },
   "source": [
    "### The @ sign\n",
    "\n",
    "The @ sign was added in 2.4 as a syntactic sugar for this pattern"
   ]
  },
  {
   "cell_type": "code",
   "execution_count": 54,
   "metadata": {
    "slideshow": {
     "slide_type": "-"
    }
   },
   "outputs": [],
   "source": [
    "class Util(object):\n",
    "    @staticmethod\n",
    "    def wibble():\n",
    "        print(\"Wobble\")\n",
    "    @null_it\n",
    "    def disabled():\n",
    "        pass"
   ]
  },
  {
   "cell_type": "markdown",
   "metadata": {
    "slideshow": {
     "slide_type": "subslide"
    }
   },
   "source": [
    "We can write our own decorators as long as we accept a function and  return a replacement function."
   ]
  },
  {
   "cell_type": "code",
   "execution_count": 1,
   "metadata": {
    "slideshow": {
     "slide_type": "-"
    }
   },
   "outputs": [],
   "source": [
    "def null_it(func):\n",
    "    'Replace with no-op'\n",
    "    def null(*args,**kwargs): pass\n",
    "    return null"
   ]
  },
  {
   "cell_type": "code",
   "execution_count": 56,
   "metadata": {
    "slideshow": {
     "slide_type": "skip"
    }
   },
   "outputs": [
    {
     "name": "stdout",
     "output_type": "stream",
     "text": [
      "Nonsense\n"
     ]
    }
   ],
   "source": [
    "class Printer(object):\n",
    "    @null_it\n",
    "    def printOut(self, stuff):\n",
    "        sys.stdout.write(stuff)\n",
    "    def print_out(self, stuff):\n",
    "        print(stuff)\n",
    "              \n",
    "Printer().print_out('Nonsense')        "
   ]
  },
  {
   "cell_type": "code",
   "execution_count": 57,
   "metadata": {
    "slideshow": {
     "slide_type": "skip"
    }
   },
   "outputs": [
    {
     "ename": "TypeError",
     "evalue": "'NoneType' object is not callable",
     "output_type": "error",
     "traceback": [
      "\u001b[0;31m---------------------------------------------------------------------------\u001b[0m",
      "\u001b[0;31mTypeError\u001b[0m                                 Traceback (most recent call last)",
      "\u001b[0;32m<ipython-input-57-af79c47a102b>\u001b[0m in \u001b[0;36m<module>\u001b[0;34m()\u001b[0m\n\u001b[0;32m----> 1\u001b[0;31m \u001b[0mPrinter\u001b[0m\u001b[0;34m(\u001b[0m\u001b[0;34m)\u001b[0m\u001b[0;34m.\u001b[0m\u001b[0mprintOut\u001b[0m\u001b[0;34m(\u001b[0m\u001b[0;34m'something'\u001b[0m\u001b[0;34m)\u001b[0m\u001b[0;34m\u001b[0m\u001b[0m\n\u001b[0m",
      "\u001b[0;31mTypeError\u001b[0m: 'NoneType' object is not callable"
     ]
    }
   ],
   "source": [
    "Printer().printOut('something')"
   ]
  },
  {
   "cell_type": "markdown",
   "metadata": {
    "slideshow": {
     "slide_type": "slide"
    }
   },
   "source": [
    "### Class Decorators\n",
    "\n",
    "In Python 2.6 we can decorate classes too,"
   ]
  },
  {
   "cell_type": "code",
   "execution_count": 3,
   "metadata": {
    "slideshow": {
     "slide_type": "-"
    }
   },
   "outputs": [
    {
     "data": {
      "text/plain": [
       "True"
      ]
     },
     "execution_count": 3,
     "metadata": {},
     "output_type": "execute_result"
    }
   ],
   "source": [
    "@null_it\n",
    "class DeadClass:\n",
    "    pass\n",
    "\n",
    "DeadClass() is None"
   ]
  },
  {
   "cell_type": "code",
   "execution_count": 59,
   "metadata": {
    "slideshow": {
     "slide_type": "skip"
    }
   },
   "outputs": [
    {
     "data": {
      "text/plain": [
       "datetime.datetime(2018, 6, 14, 15, 9, 50, 367398)"
      ]
     },
     "execution_count": 59,
     "metadata": {},
     "output_type": "execute_result"
    }
   ],
   "source": [
    "datetime.now() # 8 min"
   ]
  },
  {
   "cell_type": "markdown",
   "metadata": {
    "slideshow": {
     "slide_type": "skip"
    }
   },
   "source": [
    "### More advanced declarations\n",
    "\n",
    "#### @wraps - impersonate the orginal function"
   ]
  },
  {
   "cell_type": "code",
   "execution_count": 68,
   "metadata": {
    "slideshow": {
     "slide_type": "skip"
    }
   },
   "outputs": [
    {
     "ename": "AttributeError",
     "evalue": "'function' object has no attribute 'co_code'",
     "output_type": "error",
     "traceback": [
      "\u001b[0;31m---------------------------------------------------------------------------\u001b[0m",
      "\u001b[0;31mAttributeError\u001b[0m                            Traceback (most recent call last)",
      "\u001b[0;32m<ipython-input-68-b7ed05db89dc>\u001b[0m in \u001b[0;36m<module>\u001b[0;34m()\u001b[0m\n\u001b[1;32m     12\u001b[0m     \u001b[0;32mreturn\u001b[0m \u001b[0mwrapper\u001b[0m\u001b[0;34m\u001b[0m\u001b[0m\n\u001b[1;32m     13\u001b[0m \u001b[0;34m\u001b[0m\u001b[0m\n\u001b[0;32m---> 14\u001b[0;31m \u001b[0;34m@\u001b[0m\u001b[0mdouble_arg1\u001b[0m\u001b[0;34m\u001b[0m\u001b[0m\n\u001b[0m\u001b[1;32m     15\u001b[0m \u001b[0;32mdef\u001b[0m \u001b[0mprint_x\u001b[0m\u001b[0;34m(\u001b[0m\u001b[0mx\u001b[0m\u001b[0;34m)\u001b[0m\u001b[0;34m:\u001b[0m\u001b[0;34m\u001b[0m\u001b[0m\n\u001b[1;32m     16\u001b[0m     \u001b[0mprint\u001b[0m\u001b[0;34m(\u001b[0m\u001b[0mx\u001b[0m\u001b[0;34m)\u001b[0m\u001b[0;34m\u001b[0m\u001b[0m\n",
      "\u001b[0;32m<ipython-input-68-b7ed05db89dc>\u001b[0m in \u001b[0;36mdouble_arg1\u001b[0;34m(func)\u001b[0m\n\u001b[1;32m      6\u001b[0m         \u001b[0;32mreturn\u001b[0m \u001b[0mfunc\u001b[0m\u001b[0;34m(\u001b[0m\u001b[0marg_one\u001b[0m\u001b[0;34m*\u001b[0m\u001b[0;36m2\u001b[0m\u001b[0;34m,\u001b[0m \u001b[0;34m*\u001b[0m\u001b[0margs\u001b[0m\u001b[0;34m,\u001b[0m \u001b[0;34m**\u001b[0m\u001b[0mkwargs\u001b[0m\u001b[0;34m)\u001b[0m\u001b[0;34m\u001b[0m\u001b[0m\n\u001b[1;32m      7\u001b[0m     \u001b[0mwrapper\u001b[0m\u001b[0;34m.\u001b[0m\u001b[0m__wrapped__\u001b[0m \u001b[0;34m=\u001b[0m \u001b[0mfunc\u001b[0m\u001b[0;34m\u001b[0m\u001b[0m\n\u001b[0;32m----> 8\u001b[0;31m     \u001b[0mwrapper\u001b[0m\u001b[0;34m.\u001b[0m\u001b[0mco_code\u001b[0m\u001b[0;34m.\u001b[0m\u001b[0m__name__\u001b[0m \u001b[0;34m=\u001b[0m \u001b[0mfunc\u001b[0m\u001b[0;34m.\u001b[0m\u001b[0m__name__\u001b[0m\u001b[0;34m\u001b[0m\u001b[0m\n\u001b[0m\u001b[1;32m      9\u001b[0m     \u001b[0mwrapper\u001b[0m\u001b[0;34m.\u001b[0m\u001b[0m__module__\u001b[0m \u001b[0;34m=\u001b[0m \u001b[0mfunc\u001b[0m\u001b[0;34m.\u001b[0m\u001b[0m__module__\u001b[0m\u001b[0;34m\u001b[0m\u001b[0m\n\u001b[1;32m     10\u001b[0m     \u001b[0mwrapper\u001b[0m\u001b[0;34m.\u001b[0m\u001b[0m__doc__\u001b[0m \u001b[0;34m=\u001b[0m \u001b[0mfunc\u001b[0m\u001b[0;34m.\u001b[0m\u001b[0m__doc__\u001b[0m\u001b[0;34m\u001b[0m\u001b[0m\n",
      "\u001b[0;31mAttributeError\u001b[0m: 'function' object has no attribute 'co_code'"
     ]
    }
   ],
   "source": [
    "from functools import wraps\n",
    "\n",
    "def double_arg1(func):\n",
    "    #@wraps(func)\n",
    "    def wrapper(arg_one,*args, **kwargs):\n",
    "        return func(arg_one*2, *args, **kwargs)\n",
    "    wrapper.__wrapped__ = func\n",
    "    wrapper.__module__ = func.__module__\n",
    "    wrapper.__doc__ = func.__doc__\n",
    "        \n",
    "    return wrapper \n",
    "\n",
    "@double_arg1\n",
    "def print_x(x):\n",
    "    print(x)\n",
    "    \n",
    "print_x(1)\n",
    "print_x('Hello')"
   ]
  },
  {
   "cell_type": "code",
   "execution_count": 69,
   "metadata": {
    "slideshow": {
     "slide_type": "skip"
    }
   },
   "outputs": [
    {
     "data": {
      "text/plain": [
       "<function __main__.double_arg1.<locals>.wrapper>"
      ]
     },
     "execution_count": 69,
     "metadata": {},
     "output_type": "execute_result"
    }
   ],
   "source": [
    "print_x"
   ]
  },
  {
   "cell_type": "markdown",
   "metadata": {
    "slideshow": {
     "slide_type": "slide"
    }
   },
   "source": [
    "### Decorators with arguments \n",
    "\n",
    "Decorators with arguments aren't actually doing anything all that special.  They simply call the function with the arguments and __that__ function returns the actual decorator."
   ]
  },
  {
   "cell_type": "code",
   "execution_count": 70,
   "metadata": {
    "slideshow": {
     "slide_type": "-"
    }
   },
   "outputs": [
    {
     "name": "stdout",
     "output_type": "stream",
     "text": [
      "3\n",
      "Hello Hello Hello \n"
     ]
    }
   ],
   "source": [
    "def mult_arg(mult):\n",
    "    def deco(func):\n",
    "        def wrapper(arg_one, *args, **kwargs):\n",
    "            return func(arg_one*mult, *args, **kwargs)\n",
    "        return wrapper\n",
    "    return deco\n",
    "\n",
    "@mult_arg(3)\n",
    "def print_x(x):\n",
    "    print(x)\n",
    "    \n",
    "print_x(1)\n",
    "print_x('Hello ')"
   ]
  },
  {
   "cell_type": "markdown",
   "metadata": {},
   "source": [
    "Notice, this is two closures, one for the argument (mult) and one for the function (func).  "
   ]
  },
  {
   "cell_type": "markdown",
   "metadata": {
    "slideshow": {
     "slide_type": "subslide"
    }
   },
   "source": [
    "### Decorators written as classes\n",
    "\n",
    "Normally we write decorators that are closures, but there's no particular benefit to this."
   ]
  },
  {
   "cell_type": "code",
   "execution_count": 71,
   "metadata": {
    "slideshow": {
     "slide_type": "-"
    }
   },
   "outputs": [
    {
     "name": "stdout",
     "output_type": "stream",
     "text": [
      "(10, 30) {}\n"
     ]
    },
    {
     "data": {
      "text/plain": [
       "27"
      ]
     },
     "execution_count": 71,
     "metadata": {},
     "output_type": "execute_result"
    }
   ],
   "source": [
    "import random\n",
    "\n",
    "class trace_it:\n",
    "    def __init__(self, func):\n",
    "        self.func = func\n",
    "    def __call__(self, *args, **kwargs):\n",
    "        print(args, kwargs)\n",
    "        return self.func(*args, **kwargs)\n",
    "        \n",
    "@trace_it\n",
    "def rand(min_val, max_val):\n",
    "    return random.randint(min_val, max_val)\n",
    "rand(10,30)"
   ]
  },
  {
   "cell_type": "code",
   "execution_count": 72,
   "metadata": {
    "slideshow": {
     "slide_type": "skip"
    }
   },
   "outputs": [
    {
     "data": {
      "text/plain": [
       "datetime.datetime(2018, 6, 14, 15, 17, 15, 206398)"
      ]
     },
     "execution_count": 72,
     "metadata": {},
     "output_type": "execute_result"
    }
   ],
   "source": [
    "datetime.now() # syntax total 12 min"
   ]
  },
  {
   "cell_type": "markdown",
   "metadata": {
    "slideshow": {
     "slide_type": "slide"
    }
   },
   "source": [
    "## A - Argument Changing Decorators \n",
    "\n",
    "* add or remove an argument when the function is called\n",
    "* change the value or type of an argument at call time \n",
    "* similarly alter the return value\n",
    "\n",
    "### Problems \n",
    "\n",
    "* calling the apparent signature does not actually work\n",
    "* calling a function for a test requires injecting data to drive the decorator properly"
   ]
  },
  {
   "cell_type": "markdown",
   "metadata": {
    "slideshow": {
     "slide_type": "subslide"
    }
   },
   "source": [
    "### Example:  pytest.mark.parametrize()"
   ]
  },
  {
   "cell_type": "code",
   "execution_count": 74,
   "metadata": {},
   "outputs": [],
   "source": [
    "import pytest\n",
    "\n",
    "@pytest.mark.parametrize(\"test_input,expected\", [\n",
    "    (\"3+5\", 8),\n",
    "    (\"2+4\", 6),\n",
    "    (\"6*9\", 42),\n",
    "])\n",
    "\n",
    "def test_eval(test_input, expected):\n",
    "    assert eval(test_input) == expected"
   ]
  },
  {
   "cell_type": "markdown",
   "metadata": {
    "slideshow": {
     "slide_type": "subslide"
    }
   },
   "source": [
    "### Example implementation -- adding the func name in the call"
   ]
  },
  {
   "cell_type": "code",
   "execution_count": 76,
   "metadata": {
    "slideshow": {
     "slide_type": "-"
    }
   },
   "outputs": [
    {
     "name": "stdout",
     "output_type": "stream",
     "text": [
      "self_aware: here\n"
     ]
    }
   ],
   "source": [
    "def fn_with_name(func):\n",
    "    def wrapper(*args, **kwargs):\n",
    "        func(func.__name__,*args,**kwargs)\n",
    "    return wrapper\n",
    "        \n",
    "@fn_with_name\n",
    "def self_aware(name, oth):\n",
    "    print('{name}: {oth}'.format(name=name, oth=oth))\n",
    "    \n",
    "self_aware('here')\n",
    "        "
   ]
  },
  {
   "cell_type": "code",
   "execution_count": 77,
   "metadata": {
    "slideshow": {
     "slide_type": "skip"
    }
   },
   "outputs": [
    {
     "data": {
      "text/plain": [
       "datetime.datetime(2018, 6, 14, 15, 20, 43, 521398)"
      ]
     },
     "execution_count": 77,
     "metadata": {},
     "output_type": "execute_result"
    }
   ],
   "source": [
    "datetime.now() # 3 min for  A"
   ]
  },
  {
   "cell_type": "markdown",
   "metadata": {
    "slideshow": {
     "slide_type": "slide"
    }
   },
   "source": [
    "## B - Binding Decorators\n",
    "\n",
    "* implement the Descriptor Protocol to change how functions behave\n",
    "* the standard library includes @staticmethod, @classmethod, and @property\n",
    "\n",
    "### Problems\n",
    "\n",
    "* creates an alternative to instance methods and attributes\n",
    "* new language patterns arguably better fitting other languages \n",
    "* time shifts otherwise normal exceptions or introduces new ones"
   ]
  },
  {
   "cell_type": "markdown",
   "metadata": {
    "slideshow": {
     "slide_type": "subslide"
    }
   },
   "source": [
    "### Example: SQLAlchemy Hybrid Properties"
   ]
  },
  {
   "cell_type": "code",
   "execution_count": 78,
   "metadata": {
    "slideshow": {
     "slide_type": "-"
    }
   },
   "outputs": [],
   "source": [
    "#from sqlalchemy import func\n",
    "hybrid_property= MagicMock()\n",
    "\n",
    "class Interval(object):\n",
    "    @hybrid_property\n",
    "    def radius(self):\n",
    "        return abs(self.length) / 2\n",
    "\n",
    "    @radius.expression\n",
    "    def radius(cls):\n",
    "        return func.abs(cls.length) / 2"
   ]
  },
  {
   "cell_type": "markdown",
   "metadata": {
    "slideshow": {
     "slide_type": "subslide"
    }
   },
   "source": [
    "### Example implementation -- instance method"
   ]
  },
  {
   "cell_type": "code",
   "execution_count": 34,
   "metadata": {
    "slideshow": {
     "slide_type": "-"
    }
   },
   "outputs": [],
   "source": [
    "class instance_method:\n",
    "    def __init__(self, func):\n",
    "        self.func = func\n",
    "    def __get__(self, inst, cls):\n",
    "        if inst is None:\n",
    "            raise TypeError(f'{self.func.__name__} is only valid on instances.')\n",
    "        return self.func.__get__(inst, cls)\n",
    "    \n",
    "class GoodClass:\n",
    "    @instance_method\n",
    "    def simple_method(self):\n",
    "        print('simple_method')\n",
    "    def normal_method(self):\n",
    "        print('normal_method')"
   ]
  },
  {
   "cell_type": "code",
   "execution_count": 35,
   "metadata": {
    "slideshow": {
     "slide_type": "subslide"
    }
   },
   "outputs": [
    {
     "name": "stdout",
     "output_type": "stream",
     "text": [
      "normal_method\n",
      "simple_method\n"
     ]
    }
   ],
   "source": [
    "GoodClass().normal_method()\n",
    "GoodClass().simple_method()"
   ]
  },
  {
   "cell_type": "code",
   "execution_count": 36,
   "metadata": {
    "scrolled": true,
    "slideshow": {
     "slide_type": "skip"
    }
   },
   "outputs": [
    {
     "ename": "TypeError",
     "evalue": "normal_method() missing 1 required positional argument: 'self'",
     "output_type": "error",
     "traceback": [
      "\u001b[0;31m---------------------------------------------------------------------------\u001b[0m",
      "\u001b[0;31mTypeError\u001b[0m                                 Traceback (most recent call last)",
      "\u001b[0;32m<ipython-input-36-63f2a7128816>\u001b[0m in \u001b[0;36m<module>\u001b[0;34m()\u001b[0m\n\u001b[0;32m----> 1\u001b[0;31m \u001b[0mGoodClass\u001b[0m\u001b[0;34m.\u001b[0m\u001b[0mnormal_method\u001b[0m\u001b[0;34m(\u001b[0m\u001b[0;34m)\u001b[0m\u001b[0;34m\u001b[0m\u001b[0m\n\u001b[0m",
      "\u001b[0;31mTypeError\u001b[0m: normal_method() missing 1 required positional argument: 'self'"
     ]
    }
   ],
   "source": [
    "GoodClass.normal_method()"
   ]
  },
  {
   "cell_type": "code",
   "execution_count": 37,
   "metadata": {
    "slideshow": {
     "slide_type": "skip"
    }
   },
   "outputs": [
    {
     "ename": "TypeError",
     "evalue": "simple_method is only valid on instances.",
     "output_type": "error",
     "traceback": [
      "\u001b[0;31m---------------------------------------------------------------------------\u001b[0m",
      "\u001b[0;31mTypeError\u001b[0m                                 Traceback (most recent call last)",
      "\u001b[0;32m<ipython-input-37-065d630c3609>\u001b[0m in \u001b[0;36m<module>\u001b[0;34m()\u001b[0m\n\u001b[0;32m----> 1\u001b[0;31m \u001b[0mGoodClass\u001b[0m\u001b[0;34m.\u001b[0m\u001b[0msimple_method\u001b[0m\u001b[0;34m(\u001b[0m\u001b[0;34m)\u001b[0m\u001b[0;34m\u001b[0m\u001b[0m\n\u001b[0m",
      "\u001b[0;32m<ipython-input-34-53c5e8f52716>\u001b[0m in \u001b[0;36m__get__\u001b[0;34m(self, inst, cls)\u001b[0m\n\u001b[1;32m      4\u001b[0m     \u001b[0;32mdef\u001b[0m \u001b[0m__get__\u001b[0m\u001b[0;34m(\u001b[0m\u001b[0mself\u001b[0m\u001b[0;34m,\u001b[0m \u001b[0minst\u001b[0m\u001b[0;34m,\u001b[0m \u001b[0mcls\u001b[0m\u001b[0;34m)\u001b[0m\u001b[0;34m:\u001b[0m\u001b[0;34m\u001b[0m\u001b[0m\n\u001b[1;32m      5\u001b[0m         \u001b[0;32mif\u001b[0m \u001b[0minst\u001b[0m \u001b[0;32mis\u001b[0m \u001b[0;32mNone\u001b[0m\u001b[0;34m:\u001b[0m\u001b[0;34m\u001b[0m\u001b[0m\n\u001b[0;32m----> 6\u001b[0;31m             \u001b[0;32mraise\u001b[0m \u001b[0mTypeError\u001b[0m\u001b[0;34m(\u001b[0m\u001b[0;34mf'{self.func.__name__} is only valid on instances.'\u001b[0m\u001b[0;34m)\u001b[0m\u001b[0;34m\u001b[0m\u001b[0m\n\u001b[0m\u001b[1;32m      7\u001b[0m         \u001b[0;32mreturn\u001b[0m \u001b[0mself\u001b[0m\u001b[0;34m.\u001b[0m\u001b[0mfunc\u001b[0m\u001b[0;34m.\u001b[0m\u001b[0m__get__\u001b[0m\u001b[0;34m(\u001b[0m\u001b[0minst\u001b[0m\u001b[0;34m,\u001b[0m \u001b[0mcls\u001b[0m\u001b[0;34m)\u001b[0m\u001b[0;34m\u001b[0m\u001b[0m\n\u001b[1;32m      8\u001b[0m \u001b[0;34m\u001b[0m\u001b[0m\n",
      "\u001b[0;31mTypeError\u001b[0m: simple_method is only valid on instances."
     ]
    }
   ],
   "source": [
    "GoodClass.simple_method()"
   ]
  },
  {
   "cell_type": "code",
   "execution_count": 32,
   "metadata": {
    "slideshow": {
     "slide_type": "fragment"
    }
   },
   "outputs": [
    {
     "data": {
      "text/plain": [
       "<function __main__.GoodClass.normal_method>"
      ]
     },
     "execution_count": 32,
     "metadata": {},
     "output_type": "execute_result"
    }
   ],
   "source": [
    "GoodClass.normal_method"
   ]
  },
  {
   "cell_type": "code",
   "execution_count": 40,
   "metadata": {
    "slideshow": {
     "slide_type": "fragment"
    }
   },
   "outputs": [
    {
     "ename": "TypeError",
     "evalue": "simple_method is only valid on instances.",
     "output_type": "error",
     "traceback": [
      "\u001b[0;31m---------------------------------------------------------------------------\u001b[0m",
      "\u001b[0;31mTypeError\u001b[0m                                 Traceback (most recent call last)",
      "\u001b[0;32m<ipython-input-40-5ffb98a5765b>\u001b[0m in \u001b[0;36m<module>\u001b[0;34m()\u001b[0m\n\u001b[0;32m----> 1\u001b[0;31m \u001b[0mGoodClass\u001b[0m\u001b[0;34m.\u001b[0m\u001b[0msimple_method\u001b[0m\u001b[0;34m\u001b[0m\u001b[0m\n\u001b[0m",
      "\u001b[0;32m<ipython-input-34-53c5e8f52716>\u001b[0m in \u001b[0;36m__get__\u001b[0;34m(self, inst, cls)\u001b[0m\n\u001b[1;32m      4\u001b[0m     \u001b[0;32mdef\u001b[0m \u001b[0m__get__\u001b[0m\u001b[0;34m(\u001b[0m\u001b[0mself\u001b[0m\u001b[0;34m,\u001b[0m \u001b[0minst\u001b[0m\u001b[0;34m,\u001b[0m \u001b[0mcls\u001b[0m\u001b[0;34m)\u001b[0m\u001b[0;34m:\u001b[0m\u001b[0;34m\u001b[0m\u001b[0m\n\u001b[1;32m      5\u001b[0m         \u001b[0;32mif\u001b[0m \u001b[0minst\u001b[0m \u001b[0;32mis\u001b[0m \u001b[0;32mNone\u001b[0m\u001b[0;34m:\u001b[0m\u001b[0;34m\u001b[0m\u001b[0m\n\u001b[0;32m----> 6\u001b[0;31m             \u001b[0;32mraise\u001b[0m \u001b[0mTypeError\u001b[0m\u001b[0;34m(\u001b[0m\u001b[0;34mf'{self.func.__name__} is only valid on instances.'\u001b[0m\u001b[0;34m)\u001b[0m\u001b[0;34m\u001b[0m\u001b[0m\n\u001b[0m\u001b[1;32m      7\u001b[0m         \u001b[0;32mreturn\u001b[0m \u001b[0mself\u001b[0m\u001b[0;34m.\u001b[0m\u001b[0mfunc\u001b[0m\u001b[0;34m.\u001b[0m\u001b[0m__get__\u001b[0m\u001b[0;34m(\u001b[0m\u001b[0minst\u001b[0m\u001b[0;34m,\u001b[0m \u001b[0mcls\u001b[0m\u001b[0;34m)\u001b[0m\u001b[0;34m\u001b[0m\u001b[0m\n\u001b[1;32m      8\u001b[0m \u001b[0;34m\u001b[0m\u001b[0m\n",
      "\u001b[0;31mTypeError\u001b[0m: simple_method is only valid on instances."
     ]
    }
   ],
   "source": [
    "GoodClass.simple_method"
   ]
  },
  {
   "cell_type": "code",
   "execution_count": 85,
   "metadata": {
    "slideshow": {
     "slide_type": "skip"
    }
   },
   "outputs": [
    {
     "data": {
      "text/plain": [
       "datetime.datetime(2018, 6, 14, 15, 26, 46, 120998)"
      ]
     },
     "execution_count": 85,
     "metadata": {},
     "output_type": "execute_result"
    }
   ],
   "source": [
    "datetime.now() # 6 min B"
   ]
  },
  {
   "cell_type": "markdown",
   "metadata": {
    "slideshow": {
     "slide_type": "slide"
    }
   },
   "source": [
    "## C - Control Flow Decorators\n",
    "\n",
    "* change whether a function will be called and how many times\n",
    "\n",
    "### Problems\n",
    "\n",
    "* a predictable control flow now has a hidden conditional\n",
    "* a single invocation might now lead to 0, 1, or many executions of the function"
   ]
  },
  {
   "cell_type": "markdown",
   "metadata": {
    "slideshow": {
     "slide_type": "subslide"
    }
   },
   "source": [
    "### Example: Retry Decorator"
   ]
  },
  {
   "cell_type": "code",
   "execution_count": 39,
   "metadata": {},
   "outputs": [
    {
     "name": "stdout",
     "output_type": "stream",
     "text": [
      "<MagicMock name='mock()()' id='139994135494384'>\n"
     ]
    }
   ],
   "source": [
    "#from retrying import retry\n",
    "retry = MagicMock()\n",
    "\n",
    "@retry\n",
    "def do_something_unreliable():\n",
    "    if random.randint(0, 10) > 1:\n",
    "        raise IOError(\"Broken sauce, everything is hosed!!!111one\")\n",
    "    else:\n",
    "        return \"Awesome sauce!\"\n",
    "\n",
    "print(do_something_unreliable())"
   ]
  },
  {
   "cell_type": "markdown",
   "metadata": {
    "slideshow": {
     "slide_type": "subslide"
    }
   },
   "source": [
    "### Example implementation -- infinite retry"
   ]
  },
  {
   "cell_type": "code",
   "execution_count": 9,
   "metadata": {},
   "outputs": [
    {
     "name": "stdout",
     "output_type": "stream",
     "text": [
      "Invalid negative number -79\n",
      "Invalid negative number -67\n"
     ]
    },
    {
     "data": {
      "text/plain": [
       "6"
      ]
     },
     "execution_count": 9,
     "metadata": {},
     "output_type": "execute_result"
    }
   ],
   "source": [
    "def infinite_retry(func):\n",
    "    def wrapper(*args, **kwargs):\n",
    "        while True:\n",
    "            try:\n",
    "                return func(*args, **kwargs)\n",
    "            except RuntimeError as e:\n",
    "                print(e)\n",
    "    return wrapper\n",
    "\n",
    "@infinite_retry\n",
    "def random_fail(max_value):\n",
    "    ret = random.randint(-100, max_value)\n",
    "    if ret<0:\n",
    "        raise RuntimeError(\"Invalid negative number {ret}\".format(ret=ret))\n",
    "    return ret\n",
    "\n",
    "random_fail(10)"
   ]
  },
  {
   "cell_type": "code",
   "execution_count": 89,
   "metadata": {
    "slideshow": {
     "slide_type": "skip"
    }
   },
   "outputs": [
    {
     "data": {
      "text/plain": [
       "datetime.datetime(2018, 6, 14, 15, 28, 41, 753998)"
      ]
     },
     "execution_count": 89,
     "metadata": {},
     "output_type": "execute_result"
    }
   ],
   "source": [
    "datetime.now() # 2 min C "
   ]
  },
  {
   "cell_type": "markdown",
   "metadata": {
    "slideshow": {
     "slide_type": "slide"
    }
   },
   "source": [
    "## D - Descriptive Decorators\n",
    "\n",
    "* add the decorated object to some sort of collection\n",
    "* this collection will serve some other purpose such as:\n",
    "  - documentation\n",
    "  - dispatching\n",
    "  - plugins\n",
    "\n",
    "### Problems \n",
    "\n",
    "* it's unclear how dispatching will be done as a result of registration\n",
    "* similarly it's hard to see where the registration is maintained"
   ]
  },
  {
   "cell_type": "markdown",
   "metadata": {
    "slideshow": {
     "slide_type": "subslide"
    }
   },
   "source": [
    "### Example pytest.marks"
   ]
  },
  {
   "cell_type": "code",
   "execution_count": 90,
   "metadata": {},
   "outputs": [],
   "source": [
    "#import pytest\n",
    "pytest = MagicMock()\n",
    "\n",
    "@pytest.mark.webtest\n",
    "def test_send_http():\n",
    "    pass # perform some webtest test for your app\n",
    "def test_something_quick():\n",
    "    pass\n",
    "def test_another():\n",
    "    pass\n",
    "class TestClass(object):\n",
    "    def test_method(self):\n",
    "        pass"
   ]
  },
  {
   "cell_type": "markdown",
   "metadata": {
    "slideshow": {
     "slide_type": "subslide"
    }
   },
   "source": [
    "### Example:  flask.app.route"
   ]
  },
  {
   "cell_type": "code",
   "execution_count": 92,
   "metadata": {},
   "outputs": [],
   "source": [
    "#app = Flask(__name__)\n",
    "app = MagicMock()\n",
    "\n",
    "@app.route('/')\n",
    "def hello_world():\n",
    "    return 'Hello, World!'"
   ]
  },
  {
   "cell_type": "markdown",
   "metadata": {
    "slideshow": {
     "slide_type": "subslide"
    }
   },
   "source": [
    "### Example implementation -- qa list"
   ]
  },
  {
   "cell_type": "code",
   "execution_count": 97,
   "metadata": {},
   "outputs": [],
   "source": [
    "import warnings \n",
    "\n",
    "to_qa=[]\n",
    "def qa(func):\n",
    "    to_qa.append(func.__name__)\n",
    "    return func\n",
    "\n",
    "@qa\n",
    "def new_code(): pass\n",
    "\n",
    "@qa\n",
    "def refactored_code(): pass\n",
    "\n",
    "def well_trusted_code(): pass"
   ]
  },
  {
   "cell_type": "code",
   "execution_count": 98,
   "metadata": {
    "slideshow": {
     "slide_type": "fragment"
    }
   },
   "outputs": [
    {
     "data": {
      "text/plain": [
       "['new_code', 'refactored_code']"
      ]
     },
     "execution_count": 98,
     "metadata": {},
     "output_type": "execute_result"
    }
   ],
   "source": [
    "to_qa"
   ]
  },
  {
   "cell_type": "code",
   "execution_count": 99,
   "metadata": {
    "slideshow": {
     "slide_type": "skip"
    }
   },
   "outputs": [],
   "source": [
    "new_code()"
   ]
  },
  {
   "cell_type": "code",
   "execution_count": 100,
   "metadata": {
    "slideshow": {
     "slide_type": "skip"
    }
   },
   "outputs": [
    {
     "data": {
      "text/plain": [
       "datetime.datetime(2018, 6, 14, 15, 32, 10, 985998)"
      ]
     },
     "execution_count": 100,
     "metadata": {},
     "output_type": "execute_result"
    }
   ],
   "source": [
    "datetime.now() # 4 min D"
   ]
  },
  {
   "cell_type": "markdown",
   "metadata": {
    "slideshow": {
     "slide_type": "slide"
    }
   },
   "source": [
    "## E - Execution Decorators \n",
    "\n",
    "* reads the method/class code\n",
    "* may reinterpret the source code to basically not be python\n",
    "\n",
    "### Problems\n",
    "* many\n",
    "* and more\n",
    "\n",
    "This truly means that the code you wrote is changed--by the decorator--to some other code that is then executed.  It might:\n",
    "* be analyzed for dependencies\n",
    "* have objects in the ast swapped out, injected or removed\n",
    "* be recompiled with different rules "
   ]
  },
  {
   "cell_type": "markdown",
   "metadata": {
    "slideshow": {
     "slide_type": "subslide"
    }
   },
   "source": [
    "### Example: cython"
   ]
  },
  {
   "cell_type": "code",
   "execution_count": 101,
   "metadata": {},
   "outputs": [],
   "source": [
    "cython = MagicMock()\n",
    "\n",
    "@cython.locals(a=cython.double, b=cython.double, n=cython.p_double)\n",
    "def foo(a, b, x, y):\n",
    "    n = a*b\n",
    "    ..."
   ]
  },
  {
   "cell_type": "markdown",
   "metadata": {
    "slideshow": {
     "slide_type": "subslide"
    }
   },
   "source": [
    "### Example implementation -- code replacer"
   ]
  },
  {
   "cell_type": "code",
   "execution_count": 103,
   "metadata": {
    "slideshow": {
     "slide_type": "-"
    }
   },
   "outputs": [],
   "source": [
    "def replacer(old, new):\n",
    "    def deco(func):\n",
    "        source = inspect.getsource(func.__code__)\n",
    "        lines = source.split('\\n')\n",
    "        new_source = lines[1]+'\\n'+('\\n'.join(lines[2:]).replace(old, new))\n",
    "        exec(new_source,globals())\n",
    "        return globals()[func.__name__]\n",
    "    return deco"
   ]
  },
  {
   "cell_type": "code",
   "execution_count": 102,
   "metadata": {
    "slideshow": {
     "slide_type": "fragment"
    }
   },
   "outputs": [
    {
     "name": "stdout",
     "output_type": "stream",
     "text": [
      "Sample: 10\n"
     ]
    }
   ],
   "source": [
    "def sample(a, b):\n",
    "    x = a + b\n",
    "    y = x * 2\n",
    "    print('Sample: ' + str(y))\n",
    "sample(1,4)"
   ]
  },
  {
   "cell_type": "code",
   "execution_count": 105,
   "metadata": {
    "slideshow": {
     "slide_type": "fragment"
    }
   },
   "outputs": [
    {
     "name": "stdout",
     "output_type": "stream",
     "text": [
      "Sample: 26\n"
     ]
    }
   ],
   "source": [
    "@replacer('b','b*3')\n",
    "def sample(a, b):\n",
    "    x = a + b\n",
    "    y = x * 2\n",
    "    print('Sample: ' + str(y))\n",
    "sample(1,4)"
   ]
  },
  {
   "cell_type": "code",
   "execution_count": 106,
   "metadata": {
    "slideshow": {
     "slide_type": "subslide"
    }
   },
   "outputs": [
    {
     "name": "stdout",
     "output_type": "stream",
     "text": [
      "Sa*3mple: 14\n"
     ]
    }
   ],
   "source": [
    "@replacer('a','a*3')\n",
    "def sample(a, b):\n",
    "    x = a + b\n",
    "    y = x * 2\n",
    "    print('Sample: ' + str(y))\n",
    "sample(1,4)"
   ]
  },
  {
   "cell_type": "markdown",
   "metadata": {
    "slideshow": {
     "slide_type": "subslide"
    }
   },
   "source": [
    "### Other tools available for execution decorators\n",
    "\n",
    "* bytecode manipulation\n",
    "* ast manipulation"
   ]
  },
  {
   "cell_type": "code",
   "execution_count": 107,
   "metadata": {
    "slideshow": {
     "slide_type": "skip"
    }
   },
   "outputs": [
    {
     "data": {
      "text/plain": [
       "datetime.datetime(2018, 6, 14, 15, 39, 17, 41998)"
      ]
     },
     "execution_count": 107,
     "metadata": {},
     "output_type": "execute_result"
    }
   ],
   "source": [
    "datetime.now() # 7 min E "
   ]
  },
  {
   "cell_type": "markdown",
   "metadata": {
    "slideshow": {
     "slide_type": "slide"
    }
   },
   "source": [
    "## Conclusion\n",
    "\n",
    "Our Taxonomy\n",
    "* Argument changing\n",
    "  - @click.option\n",
    "  - @flask.templated\n",
    "  - @django.views.decorators.gzip.gzip_page\n",
    "* Binding\n",
    "  - @variants.primary\n",
    "  - @pyramid.decorator.reify\n",
    "* Control flow\n",
    "  - @functools.lru_cache\n",
    "  - @django.views.decorators.http.require_http_methods\n",
    "  - @twisted.internet.defer.inlineCallbacks\n",
    "* Descriptive\n",
    "  - @numpy.testing.decorators.setastest\n",
    "* Execution\n",
    "  - @numba.jit\n",
    "* ?"
   ]
  },
  {
   "cell_type": "code",
   "execution_count": 108,
   "metadata": {
    "slideshow": {
     "slide_type": "skip"
    }
   },
   "outputs": [
    {
     "data": {
      "text/plain": [
       "datetime.datetime(2018, 6, 14, 15, 39, 50, 994998)"
      ]
     },
     "execution_count": 108,
     "metadata": {},
     "output_type": "execute_result"
    }
   ],
   "source": [
    "datetime.now()# 1 min conclusion"
   ]
  },
  {
   "cell_type": "markdown",
   "metadata": {
    "slideshow": {
     "slide_type": "notes"
    }
   },
   "source": [
    "## Feedback Please\n",
    "* Pacing \n",
    "  - Syntax vs Examples\n",
    "  - Examples themselves\n",
    "* choice of examples\n",
    "  - Real world examples\n",
    "  - Example implementations\n",
    "  - Execution decorator example"
   ]
  },
  {
   "cell_type": "code",
   "execution_count": 108,
   "metadata": {
    "slideshow": {
     "slide_type": "skip"
    }
   },
   "outputs": [
    {
     "data": {
      "text/plain": [
       "datetime.datetime(2018, 6, 14, 15, 39, 50, 994998)"
      ]
     },
     "execution_count": 108,
     "metadata": {},
     "output_type": "execute_result"
    }
   ],
   "source": [
    "datetime.now()"
   ]
  },
  {
   "cell_type": "code",
   "execution_count": 40,
   "metadata": {
    "collapsed": true,
    "slideshow": {
     "slide_type": "notes"
    }
   },
   "outputs": [
    {
     "data": {
      "text/plain": [
       "b'|\\x00\\x00d\\x01\\x00\\x14|\\x01\\x00\\x17}\\x02\\x00|\\x02\\x00d\\x02\\x00\\x14}\\x03\\x00t\\x00\\x00d\\x03\\x00t\\x01\\x00|\\x03\\x00\\x83\\x01\\x00\\x17\\x83\\x01\\x00\\x01d\\x00\\x00S'"
      ]
     },
     "execution_count": 40,
     "metadata": {},
     "output_type": "execute_result"
    }
   ],
   "source": [
    "sample.__code__.co_code"
   ]
  },
  {
   "cell_type": "code",
   "execution_count": 41,
   "metadata": {
    "collapsed": true,
    "slideshow": {
     "slide_type": "notes"
    }
   },
   "outputs": [
    {
     "name": "stdout",
     "output_type": "stream",
     "text": [
      "          0 LOAD_FAST                0 (0)\n",
      "          3 LOAD_CONST               1 (1)\n",
      "          6 BINARY_MULTIPLY\n",
      "          7 LOAD_FAST                1 (1)\n",
      "         10 BINARY_ADD\n",
      "         11 STORE_FAST               2 (2)\n",
      "         14 LOAD_FAST                2 (2)\n",
      "         17 LOAD_CONST               2 (2)\n",
      "         20 BINARY_MULTIPLY\n",
      "         21 STORE_FAST               3 (3)\n",
      "         24 LOAD_GLOBAL              0 (0)\n",
      "         27 LOAD_CONST               3 (3)\n",
      "         30 LOAD_GLOBAL              1 (1)\n",
      "         33 LOAD_FAST                3 (3)\n",
      "         36 CALL_FUNCTION            1 (1 positional, 0 keyword pair)\n",
      "         39 BINARY_ADD\n",
      "         40 CALL_FUNCTION            1 (1 positional, 0 keyword pair)\n",
      "         43 POP_TOP\n",
      "         44 LOAD_CONST               0 (0)\n",
      "         47 RETURN_VALUE\n"
     ]
    }
   ],
   "source": [
    "dis.dis(sample.__code__.co_code)"
   ]
  },
  {
   "cell_type": "code",
   "execution_count": 42,
   "metadata": {
    "collapsed": true,
    "slideshow": {
     "slide_type": "notes"
    }
   },
   "outputs": [
    {
     "ename": "OSError",
     "evalue": "could not get source code",
     "output_type": "error",
     "traceback": [
      "\u001b[0;31m---------------------------------------------------------------------------\u001b[0m",
      "\u001b[0;31mOSError\u001b[0m                                   Traceback (most recent call last)",
      "\u001b[0;32m<ipython-input-42-a04fc6ea1119>\u001b[0m in \u001b[0;36m<module>\u001b[0;34m()\u001b[0m\n\u001b[0;32m----> 1\u001b[0;31m \u001b[0msource\u001b[0m \u001b[0;34m=\u001b[0m \u001b[0minspect\u001b[0m\u001b[0;34m.\u001b[0m\u001b[0mgetsource\u001b[0m\u001b[0;34m(\u001b[0m\u001b[0msample\u001b[0m\u001b[0;34m.\u001b[0m\u001b[0m__code__\u001b[0m\u001b[0;34m)\u001b[0m\u001b[0;34m\u001b[0m\u001b[0m\n\u001b[0m\u001b[1;32m      2\u001b[0m \u001b[0msource\u001b[0m\u001b[0;34m\u001b[0m\u001b[0m\n",
      "\u001b[0;32mC:\\blp\\BQuant\\environments\\bqnt-0.48.1\\lib\\inspect.py\u001b[0m in \u001b[0;36mgetsource\u001b[0;34m(object)\u001b[0m\n\u001b[1;32m    947\u001b[0m     \u001b[0;32mor\u001b[0m \u001b[0mcode\u001b[0m \u001b[0mobject\u001b[0m\u001b[0;34m.\u001b[0m  \u001b[0mThe\u001b[0m \u001b[0msource\u001b[0m \u001b[0mcode\u001b[0m \u001b[0;32mis\u001b[0m \u001b[0mreturned\u001b[0m \u001b[0;32mas\u001b[0m \u001b[0ma\u001b[0m \u001b[0msingle\u001b[0m \u001b[0mstring\u001b[0m\u001b[0;34m.\u001b[0m  \u001b[0mAn\u001b[0m\u001b[0;34m\u001b[0m\u001b[0m\n\u001b[1;32m    948\u001b[0m     OSError is raised if the source code cannot be retrieved.\"\"\"\n\u001b[0;32m--> 949\u001b[0;31m     \u001b[0mlines\u001b[0m\u001b[0;34m,\u001b[0m \u001b[0mlnum\u001b[0m \u001b[0;34m=\u001b[0m \u001b[0mgetsourcelines\u001b[0m\u001b[0;34m(\u001b[0m\u001b[0mobject\u001b[0m\u001b[0;34m)\u001b[0m\u001b[0;34m\u001b[0m\u001b[0m\n\u001b[0m\u001b[1;32m    950\u001b[0m     \u001b[0;32mreturn\u001b[0m \u001b[0;34m''\u001b[0m\u001b[0;34m.\u001b[0m\u001b[0mjoin\u001b[0m\u001b[0;34m(\u001b[0m\u001b[0mlines\u001b[0m\u001b[0;34m)\u001b[0m\u001b[0;34m\u001b[0m\u001b[0m\n\u001b[1;32m    951\u001b[0m \u001b[0;34m\u001b[0m\u001b[0m\n",
      "\u001b[0;32mC:\\blp\\BQuant\\environments\\bqnt-0.48.1\\lib\\inspect.py\u001b[0m in \u001b[0;36mgetsourcelines\u001b[0;34m(object)\u001b[0m\n\u001b[1;32m    934\u001b[0m     raised if the source code cannot be retrieved.\"\"\"\n\u001b[1;32m    935\u001b[0m     \u001b[0mobject\u001b[0m \u001b[0;34m=\u001b[0m \u001b[0munwrap\u001b[0m\u001b[0;34m(\u001b[0m\u001b[0mobject\u001b[0m\u001b[0;34m)\u001b[0m\u001b[0;34m\u001b[0m\u001b[0m\n\u001b[0;32m--> 936\u001b[0;31m     \u001b[0mlines\u001b[0m\u001b[0;34m,\u001b[0m \u001b[0mlnum\u001b[0m \u001b[0;34m=\u001b[0m \u001b[0mfindsource\u001b[0m\u001b[0;34m(\u001b[0m\u001b[0mobject\u001b[0m\u001b[0;34m)\u001b[0m\u001b[0;34m\u001b[0m\u001b[0m\n\u001b[0m\u001b[1;32m    937\u001b[0m \u001b[0;34m\u001b[0m\u001b[0m\n\u001b[1;32m    938\u001b[0m     \u001b[0;32mif\u001b[0m \u001b[0mismodule\u001b[0m\u001b[0;34m(\u001b[0m\u001b[0mobject\u001b[0m\u001b[0;34m)\u001b[0m\u001b[0;34m:\u001b[0m\u001b[0;34m\u001b[0m\u001b[0m\n",
      "\u001b[0;32mC:\\blp\\BQuant\\environments\\bqnt-0.48.1\\lib\\inspect.py\u001b[0m in \u001b[0;36mfindsource\u001b[0;34m(object)\u001b[0m\n\u001b[1;32m    765\u001b[0m         \u001b[0mlines\u001b[0m \u001b[0;34m=\u001b[0m \u001b[0mlinecache\u001b[0m\u001b[0;34m.\u001b[0m\u001b[0mgetlines\u001b[0m\u001b[0;34m(\u001b[0m\u001b[0mfile\u001b[0m\u001b[0;34m)\u001b[0m\u001b[0;34m\u001b[0m\u001b[0m\n\u001b[1;32m    766\u001b[0m     \u001b[0;32mif\u001b[0m \u001b[0;32mnot\u001b[0m \u001b[0mlines\u001b[0m\u001b[0;34m:\u001b[0m\u001b[0;34m\u001b[0m\u001b[0m\n\u001b[0;32m--> 767\u001b[0;31m         \u001b[0;32mraise\u001b[0m \u001b[0mOSError\u001b[0m\u001b[0;34m(\u001b[0m\u001b[0;34m'could not get source code'\u001b[0m\u001b[0;34m)\u001b[0m\u001b[0;34m\u001b[0m\u001b[0m\n\u001b[0m\u001b[1;32m    768\u001b[0m \u001b[0;34m\u001b[0m\u001b[0m\n\u001b[1;32m    769\u001b[0m     \u001b[0;32mif\u001b[0m \u001b[0mismodule\u001b[0m\u001b[0;34m(\u001b[0m\u001b[0mobject\u001b[0m\u001b[0;34m)\u001b[0m\u001b[0;34m:\u001b[0m\u001b[0;34m\u001b[0m\u001b[0m\n",
      "\u001b[0;31mOSError\u001b[0m: could not get source code"
     ]
    }
   ],
   "source": [
    "source = inspect.getsource(sample.__code__)\n",
    "source"
   ]
  },
  {
   "cell_type": "code",
   "execution_count": 43,
   "metadata": {
    "collapsed": true,
    "slideshow": {
     "slide_type": "notes"
    }
   },
   "outputs": [
    {
     "name": "stdout",
     "output_type": "stream",
     "text": [
      "Sample: 10\n"
     ]
    }
   ],
   "source": [
    "def sample(a, b):\n",
    "    x = a + b\n",
    "    y = x * 2\n",
    "    print('Sample: ' + str(y))\n",
    "sample(1,4)"
   ]
  },
  {
   "cell_type": "code",
   "execution_count": 44,
   "metadata": {
    "collapsed": true,
    "slideshow": {
     "slide_type": "notes"
    }
   },
   "outputs": [
    {
     "data": {
      "text/plain": [
       "\"def sample(a, b):\\n    x = a + b\\n    y = x * 2\\n    print('Sample: ' + str(y))\\n\""
      ]
     },
     "execution_count": 44,
     "metadata": {},
     "output_type": "execute_result"
    }
   ],
   "source": [
    "source = inspect.getsource(sample.__code__)\n",
    "source"
   ]
  },
  {
   "cell_type": "code",
   "execution_count": 45,
   "metadata": {
    "collapsed": true,
    "slideshow": {
     "slide_type": "notes"
    }
   },
   "outputs": [],
   "source": [
    "lines = source.split('\\n')\n",
    "new_source = lines[0]+'\\n'+('\\n'.join(lines[1:]).replace('b','b*3'))"
   ]
  },
  {
   "cell_type": "code",
   "execution_count": 46,
   "metadata": {
    "collapsed": true,
    "slideshow": {
     "slide_type": "notes"
    }
   },
   "outputs": [
    {
     "data": {
      "text/plain": [
       "\"def sample(a, b):\\n    x = a + b*3\\n    y = x * 2\\n    print('Sample: ' + str(y))\\n\""
      ]
     },
     "execution_count": 46,
     "metadata": {},
     "output_type": "execute_result"
    }
   ],
   "source": [
    "new_source"
   ]
  },
  {
   "cell_type": "code",
   "execution_count": 47,
   "metadata": {
    "collapsed": true,
    "slideshow": {
     "slide_type": "notes"
    }
   },
   "outputs": [],
   "source": [
    "glb = globals()\n",
    "exec(new_source,glb)"
   ]
  },
  {
   "cell_type": "code",
   "execution_count": 48,
   "metadata": {
    "collapsed": true,
    "slideshow": {
     "slide_type": "notes"
    }
   },
   "outputs": [
    {
     "name": "stdout",
     "output_type": "stream",
     "text": [
      "Sample: 26\n",
      "Sample: 26\n"
     ]
    },
    {
     "data": {
      "text/plain": [
       "(None, None)"
      ]
     },
     "execution_count": 48,
     "metadata": {},
     "output_type": "execute_result"
    }
   ],
   "source": [
    "glb['sample'](1,4), sample(1,4)"
   ]
  },
  {
   "cell_type": "code",
   "execution_count": 49,
   "metadata": {
    "collapsed": true,
    "slideshow": {
     "slide_type": "notes"
    }
   },
   "outputs": [
    {
     "name": "stdout",
     "output_type": "stream",
     "text": [
      "  2           0 LOAD_FAST                0 (a)\n",
      "              3 LOAD_FAST                1 (b)\n",
      "              6 LOAD_CONST               1 (3)\n",
      "              9 BINARY_MULTIPLY\n",
      "             10 BINARY_ADD\n",
      "             11 STORE_FAST               2 (x)\n",
      "\n",
      "  3          14 LOAD_FAST                2 (x)\n",
      "             17 LOAD_CONST               2 (2)\n",
      "             20 BINARY_MULTIPLY\n",
      "             21 STORE_FAST               3 (y)\n",
      "\n",
      "  4          24 LOAD_GLOBAL              0 (print)\n",
      "             27 LOAD_CONST               3 ('Sample: ')\n",
      "             30 LOAD_GLOBAL              1 (str)\n",
      "             33 LOAD_FAST                3 (y)\n",
      "             36 CALL_FUNCTION            1 (1 positional, 0 keyword pair)\n",
      "             39 BINARY_ADD\n",
      "             40 CALL_FUNCTION            1 (1 positional, 0 keyword pair)\n",
      "             43 POP_TOP\n",
      "             44 LOAD_CONST               0 (None)\n",
      "             47 RETURN_VALUE\n"
     ]
    }
   ],
   "source": [
    "dis.dis(sample)"
   ]
  }
 ],
 "metadata": {
  "celltoolbar": "Slideshow",
  "kernelspec": {
   "display_name": "Python 3",
   "language": "python",
   "name": "python3"
  },
  "language_info": {
   "codemirror_mode": {
    "name": "ipython",
    "version": 3
   },
   "file_extension": ".py",
   "mimetype": "text/x-python",
   "name": "python",
   "nbconvert_exporter": "python",
   "pygments_lexer": "ipython3",
   "version": "3.6.5"
  }
 },
 "nbformat": 4,
 "nbformat_minor": 1
}
